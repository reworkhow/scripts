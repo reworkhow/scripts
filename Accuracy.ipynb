{
 "cells": [
  {
   "cell_type": "code",
   "execution_count": 1,
   "metadata": {
    "collapsed": false
   },
   "outputs": [
    {
     "data": {
      "text/plain": [
       "get_correlation (generic function with 1 method)"
      ]
     },
     "execution_count": 1,
     "metadata": {},
     "output_type": "execute_result"
    }
   ],
   "source": [
    "include(\"getAccuracy.jl\")"
   ]
  },
  {
   "cell_type": "code",
   "execution_count": 3,
   "metadata": {
    "collapsed": false
   },
   "outputs": [
    {
     "name": "stderr",
     "output_type": "stream",
     "text": [
      "WARNING: int(a::AbstractArray) is deprecated, use round(Int64,a) instead.\n"
     ]
    },
    {
     "data": {
      "text/plain": [
       "(0.27136511950740266,\n",
       "277x2 Array{Float64,2}:\n",
       " 176.225     16.6327  \n",
       "   0.416881  -0.84902 \n",
       "  34.6217    -1.1951  \n",
       "  23.0863    -0.555626\n",
       "  16.85      -1.05604 \n",
       "  -4.83699   -1.22489 \n",
       "  -8.21303   -0.648466\n",
       "   2.40164   -1.88727 \n",
       "  29.3792    -2.12975 \n",
       "  22.0633    -2.47324 \n",
       "  -5.91848   -2.29347 \n",
       "  15.4527    -1.71911 \n",
       "  -6.62387   -2.46093 \n",
       "   ⋮                  \n",
       "  -2.5525     2.46638 \n",
       "  -4.63902    2.32464 \n",
       "  -3.63618    1.73622 \n",
       " -13.7252     0.124486\n",
       "   6.77478   -4.35801 \n",
       " -17.2252    -3.83881 \n",
       " -10.2252     2.31778 \n",
       "  12.2856     2.86182 \n",
       " -13.9109     2.51807 \n",
       " -11.3919     1.54887 \n",
       " -12.4845     1.39117 \n",
       " -10.5586     3.67219 )"
      ]
     },
     "execution_count": 3,
     "metadata": {},
     "output_type": "execute_result"
    },
    {
     "name": "stderr",
     "output_type": "stream",
     "text": [
      " in depwarn at deprecated.jl:73\n",
      " in int at deprecated.jl:276\n",
      " in get_correlation at /home/joonho/Dropbox/SSBR_Work/getAccuracy.jl:26\n",
      " in include_string at loading.jl:266\n",
      " in execute_request_0x535c5df2 at /home/joonho/.julia/v0.4/IJulia/src/execute_request.jl:177\n",
      " in eventloop at /home/joonho/.julia/v0.4/IJulia/src/IJulia.jl:141\n",
      " in anonymous at task.jl:447\n",
      "while loading In[3], in expression starting on line 1\n"
     ]
    }
   ],
   "source": [
    "get_correlation(\"BW.comp\")"
   ]
  },
  {
   "cell_type": "code",
   "execution_count": 4,
   "metadata": {
    "collapsed": false
   },
   "outputs": [
    {
     "name": "stderr",
     "output_type": "stream",
     "text": [
      "WARNING: int(a::AbstractArray) is deprecated, use round(Int64,a) instead.\n"
     ]
    },
    {
     "data": {
      "text/plain": [
       "(0.2776217687794005,\n",
       "277x2 Array{Float64,2}:\n",
       " 176.225     14.8914  \n",
       "   0.416881  -1.01277 \n",
       "  34.6217    -1.28074 \n",
       "  23.0863    -0.472439\n",
       "  16.85      -1.19218 \n",
       "  -4.83699   -1.17525 \n",
       "  -8.21303   -0.678623\n",
       "   2.40164   -1.96143 \n",
       "  29.3792    -2.12909 \n",
       "  22.0633    -2.50897 \n",
       "  -5.91848   -2.36741 \n",
       "  15.4527    -1.7811  \n",
       "  -6.62387   -2.56578 \n",
       "   ⋮                  \n",
       "  -2.5525     3.24091 \n",
       "  -4.63902    2.91471 \n",
       "  -3.63618    2.70019 \n",
       " -13.7252     0.432848\n",
       "   6.77478   -4.88392 \n",
       " -17.2252    -6.35742 \n",
       " -10.2252     3.29716 \n",
       "  12.2856     3.70536 \n",
       " -13.9109     3.67712 \n",
       " -11.3919     2.63198 \n",
       " -12.4845     2.17008 \n",
       " -10.5586     3.79669 )"
      ]
     },
     "execution_count": 4,
     "metadata": {},
     "output_type": "execute_result"
    },
    {
     "name": "stderr",
     "output_type": "stream",
     "text": [
      " in depwarn at deprecated.jl:73\n",
      " in int at deprecated.jl:276\n",
      " in get_correlation at /home/joonho/Dropbox/SSBR_Work/getAccuracy.jl:26\n",
      " in include_string at loading.jl:266\n",
      " in execute_request_0x535c5df2 at /home/joonho/.julia/v0.4/IJulia/src/execute_request.jl:177\n",
      " in eventloop at /home/joonho/.julia/v0.4/IJulia/src/IJulia.jl:141\n",
      " in anonymous at task.jl:447\n",
      "while loading In[4], in expression starting on line 1\n"
     ]
    }
   ],
   "source": [
    "get_correlation(\"BW.comp_st\")"
   ]
  },
  {
   "cell_type": "code",
   "execution_count": 6,
   "metadata": {
    "collapsed": false
   },
   "outputs": [
    {
     "data": {
      "text/plain": [
       "(0.27777253811308616,\n",
       "277x2 Array{Float64,2}:\n",
       " 176.225     15.5013  \n",
       "   0.416881  -1.01885 \n",
       "  34.6217    -1.26533 \n",
       "  23.0863    -0.477679\n",
       "  16.85      -1.18629 \n",
       "  -4.83699   -1.17112 \n",
       "  -8.21303   -0.676636\n",
       "   2.40164   -2.00759 \n",
       "  29.3792    -2.1747  \n",
       "  22.0633    -2.54869 \n",
       "  -5.91848   -2.42157 \n",
       "  15.4527    -1.83249 \n",
       "  -6.62387   -2.61592 \n",
       "   ⋮                  \n",
       "  -2.5525     3.2471  \n",
       "  -4.63902    2.91089 \n",
       "  -3.63618    2.68563 \n",
       " -13.7252     0.363446\n",
       "   6.77478   -4.74427 \n",
       " -17.2252    -6.34537 \n",
       " -10.2252     3.31579 \n",
       "  12.2856     3.69962 \n",
       " -13.9109     3.70259 \n",
       " -11.3919     2.63613 \n",
       " -12.4845     2.15247 \n",
       " -10.5586     3.82089 )"
      ]
     },
     "execution_count": 6,
     "metadata": {},
     "output_type": "execute_result"
    }
   ],
   "source": [
    "get_correlation(\"BW.comp_nocov\")"
   ]
  },
  {
   "cell_type": "code",
   "execution_count": 2,
   "metadata": {
    "collapsed": false
   },
   "outputs": [
    {
     "name": "stderr",
     "output_type": "stream",
     "text": [
      "WARNING: int(a::AbstractArray) is deprecated, use round(Int64,a) instead.\n"
     ]
    },
    {
     "data": {
      "text/plain": [
       "(0.2780824039136144,\n",
       "277x2 Array{Float64,2}:\n",
       " 176.225     14.7966  \n",
       "   0.416881  -0.909759\n",
       "  34.6217    -1.17339 \n",
       "  23.0863    -0.431518\n",
       "  16.85      -1.08345 \n",
       "  -4.83699   -1.10111 \n",
       "  -8.21303   -0.595086\n",
       "   2.40164   -1.84365 \n",
       "  29.3792    -2.01733 \n",
       "  22.0633    -2.38729 \n",
       "  -5.91848   -2.25155 \n",
       "  15.4527    -1.67269 \n",
       "  -6.62387   -2.44307 \n",
       "   ⋮                  \n",
       "  -2.5525     3.0549  \n",
       "  -4.63902    2.78839 \n",
       "  -3.63618    2.51673 \n",
       " -13.7252     0.340684\n",
       "   6.77478   -4.65503 \n",
       " -17.2252    -5.87553 \n",
       " -10.2252     3.1547  \n",
       "  12.2856     3.58397 \n",
       " -13.9109     3.42135 \n",
       " -11.3919     2.40521 \n",
       " -12.4845     2.1039  \n",
       " -10.5586     3.73113 )"
      ]
     },
     "execution_count": 2,
     "metadata": {},
     "output_type": "execute_result"
    },
    {
     "name": "stderr",
     "output_type": "stream",
     "text": [
      " in depwarn at deprecated.jl:73\n",
      " in int at deprecated.jl:276\n",
      " in get_correlation at /Users/joonho/Dropbox/SSBR_Work/getAccuracy.jl:26\n",
      " in include_string at loading.jl:266\n",
      " in execute_request_0x535c5df2 at /Users/joonho/.julia/v0.4/IJulia/src/execute_request.jl:177\n",
      " in eventloop at /Users/joonho/.julia/v0.4/IJulia/src/IJulia.jl:141\n",
      " in anonymous at task.jl:447\n",
      "while loading In[2], in expression starting on line 1\n"
     ]
    }
   ],
   "source": [
    "get_correlation(\"BW.comp_bw_wtg\")"
   ]
  },
  {
   "cell_type": "code",
   "execution_count": 3,
   "metadata": {
    "collapsed": false
   },
   "outputs": [
    {
     "name": "stderr",
     "output_type": "stream",
     "text": [
      "WARNING: int(a::AbstractArray) is deprecated, use round(Int64,a) instead.\n"
     ]
    },
    {
     "data": {
      "text/plain": [
       "(0.2778119224452677,\n",
       "277x2 Array{Float64,2}:\n",
       " 176.225     15.0355  \n",
       "   0.416881  -1.0153  \n",
       "  34.6217    -1.28241 \n",
       "  23.0863    -0.48156 \n",
       "  16.85      -1.19881 \n",
       "  -4.83699   -1.17157 \n",
       "  -8.21303   -0.694128\n",
       "   2.40164   -1.97517 \n",
       "  29.3792    -2.14652 \n",
       "  22.0633    -2.51839 \n",
       "  -5.91848   -2.38166 \n",
       "  15.4527    -1.7996  \n",
       "  -6.62387   -2.57965 \n",
       "   ⋮                  \n",
       "  -2.5525     3.23033 \n",
       "  -4.63902    2.90197 \n",
       "  -3.63618    2.66916 \n",
       " -13.7252     0.371352\n",
       "   6.77478   -4.87071 \n",
       " -17.2252    -6.31834 \n",
       " -10.2252     3.26928 \n",
       "  12.2856     3.68962 \n",
       " -13.9109     3.65722 \n",
       " -11.3919     2.61557 \n",
       " -12.4845     2.13399 \n",
       " -10.5586     3.77523 )"
      ]
     },
     "execution_count": 3,
     "metadata": {},
     "output_type": "execute_result"
    },
    {
     "name": "stderr",
     "output_type": "stream",
     "text": [
      " in depwarn at deprecated.jl:73\n",
      " in int at deprecated.jl:276\n",
      " in get_correlation at /Users/joonho/Dropbox/SSBR_Work/getAccuracy.jl:26\n",
      " in include_string at loading.jl:266\n",
      " in execute_request_0x535c5df2 at /Users/joonho/.julia/v0.4/IJulia/src/execute_request.jl:177\n",
      " in eventloop at /Users/joonho/.julia/v0.4/IJulia/src/IJulia.jl:141\n",
      " in anonymous at task.jl:447\n",
      "while loading In[3], in expression starting on line 1\n"
     ]
    }
   ],
   "source": [
    "get_correlation(\"BW.comp2\")"
   ]
  },
  {
   "cell_type": "code",
   "execution_count": 5,
   "metadata": {
    "collapsed": false
   },
   "outputs": [
    {
     "data": {
      "text/plain": [
       "(0.25970176491806735,\n",
       "64x2 Array{Float64,2}:\n",
       "  96.2438      6.25133 \n",
       "   3.64507    -0.083001\n",
       "  -4.0216      4.19493 \n",
       "   4.11332     2.42916 \n",
       " -12.9938     -0.322521\n",
       "   5.05618    -0.396523\n",
       "   0.0418907  -0.38517 \n",
       "  -0.618824    1.28916 \n",
       "   4.98695     2.5234  \n",
       "  -1.78229     2.54094 \n",
       "  -3.96257     1.02968 \n",
       "  -8.29144     1.33183 \n",
       "   8.58951     1.71454 \n",
       "   ⋮                   \n",
       "  -3.11882    -0.646477\n",
       "   4.69735    -1.40187 \n",
       "   0.0254072  -1.19081 \n",
       "   3.08951     0.349059\n",
       "   7.66922    -0.838391\n",
       "   5.64903     0.163914\n",
       "   5.42284     0.323779\n",
       "   8.86332     0.581933\n",
       "  -2.69837    -0.635581\n",
       "   1.2284     -2.28753 \n",
       "   3.9784     -2.37795 \n",
       "   9.22284     1.57301 )"
      ]
     },
     "execution_count": 5,
     "metadata": {},
     "output_type": "execute_result"
    }
   ],
   "source": [
    "get_correlation(\"WTG.comp_2t\")"
   ]
  },
  {
   "cell_type": "code",
   "execution_count": 6,
   "metadata": {
    "collapsed": false
   },
   "outputs": [
    {
     "data": {
      "text/plain": [
       "(0.25771869642515305,\n",
       "64x2 Array{Float64,2}:\n",
       "  96.2438      1.6415   \n",
       "   3.64507    -0.407694 \n",
       "  -4.0216      3.87311  \n",
       "   4.11332     1.92774  \n",
       " -12.9938     -0.388006 \n",
       "   5.05618    -0.572538 \n",
       "   0.0418907  -0.500801 \n",
       "  -0.618824    1.28293  \n",
       "   4.98695     2.37711  \n",
       "  -1.78229     2.58987  \n",
       "  -3.96257     0.929482 \n",
       "  -8.29144     1.49598  \n",
       "   8.58951     1.45944  \n",
       "   ⋮                    \n",
       "  -3.11882    -0.614319 \n",
       "   4.69735    -1.33253  \n",
       "   0.0254072  -1.2998   \n",
       "   3.08951     0.189641 \n",
       "   7.66922    -1.00148  \n",
       "   5.64903     0.0936997\n",
       "   5.42284     0.204418 \n",
       "   8.86332     0.367976 \n",
       "  -2.69837    -0.846811 \n",
       "   1.2284     -2.41626  \n",
       "   3.9784     -2.49604  \n",
       "   9.22284     1.37723  )"
      ]
     },
     "execution_count": 6,
     "metadata": {},
     "output_type": "execute_result"
    }
   ],
   "source": [
    "get_correlation(\"WTG.comp_st\")"
   ]
  }
 ],
 "metadata": {
  "kernelspec": {
   "display_name": "Julia 0.4.0",
   "language": "julia",
   "name": "julia-0.4"
  },
  "language_info": {
   "file_extension": ".jl",
   "mimetype": "application/julia",
   "name": "julia",
   "version": "0.4.0"
  }
 },
 "nbformat": 4,
 "nbformat_minor": 0
}
